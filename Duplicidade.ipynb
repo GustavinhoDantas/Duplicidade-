{
  "nbformat": 4,
  "nbformat_minor": 0,
  "metadata": {
    "colab": {
      "provenance": [],
      "authorship_tag": "ABX9TyPFhYzdnu/EL/wg0UcvosS/",
      "include_colab_link": true
    },
    "kernelspec": {
      "name": "python3",
      "display_name": "Python 3"
    },
    "language_info": {
      "name": "python"
    }
  },
  "cells": [
    {
      "cell_type": "markdown",
      "metadata": {
        "id": "view-in-github",
        "colab_type": "text"
      },
      "source": [
        "<a href=\"https://colab.research.google.com/github/GustavinhoDantas/Duplicidade-/blob/main/Duplicidade.ipynb\" target=\"_parent\"><img src=\"https://colab.research.google.com/assets/colab-badge.svg\" alt=\"Open In Colab\"/></a>"
      ]
    },
    {
      "cell_type": "markdown",
      "source": [
        "DUPLICIDADES\n",
        "\n"
      ],
      "metadata": {
        "id": "5k5Zy7CwyFUQ"
      }
    },
    {
      "cell_type": "code",
      "source": [
        "import pandas as pd\n",
        "\n",
        "# Mude aqui para o nome do seu arquivo, com caminho correto no Colab\n",
        "arquivo_entrada = '/content/SOCORRO.xlsx'  # pode ser .xlsx ou .csv\n",
        "\n",
        "# Tentar ler Excel, se não conseguir, tenta CSV\n",
        "try:\n",
        "    df = pd.read_excel(arquivo_entrada, engine='openpyxl')\n",
        "    print(\"Arquivo lido como Excel.\")\n",
        "except Exception as e:\n",
        "    print(f\"Erro lendo Excel: {e}\\nTentando CSV...\")\n",
        "    df = pd.read_csv(arquivo_entrada)\n",
        "    print(\"Arquivo lido como CSV.\")\n",
        "\n",
        "# Filtra linhas com STATUS diferente de 'Cancelado'\n",
        "df_filtrado = df[df['STATUS'].str.strip().str.upper() != 'CANCELADO']\n",
        "\n",
        "# Pega lista de apólices únicas da coluna 'ÚNICO APÓLICES', ignorando NaN\n",
        "apolices_unicas = df_filtrado['ÚNICO APÓLICES'].dropna().unique()\n",
        "\n",
        "# Função que retorna lista de endossos para uma apólice\n",
        "def pega_endossos(apolice):\n",
        "    # Filtra linhas onde 'APÓLICES SQL X RONALDO' == apolice e pega 'ENDOSSO RONALDO'\n",
        "    endossos = df_filtrado.loc[df_filtrado['APÓLICES SQL X RONALDO'] == apolice, 'ENDOSSO RONALDO']\n",
        "    return endossos.astype(str).tolist()\n",
        "\n",
        "# Monta lista com resultados\n",
        "resultado = []\n",
        "for apolice in apolices_unicas:\n",
        "    endossos_lista = pega_endossos(apolice)\n",
        "    endossos_texto = ', '.join(endossos_lista)\n",
        "    resultado.append({\n",
        "        'Apólice': apolice,\n",
        "        'Endossos': endossos_texto\n",
        "    })\n",
        "\n",
        "# Cria DataFrame resultado\n",
        "df_resultado = pd.DataFrame(resultado)\n",
        "\n",
        "# Salva arquivo novo Excel com as informações desejadas\n",
        "arquivo_saida = '/content/resultado_endossos.xlsx'\n",
        "df_resultado.to_excel(arquivo_saida, index=False, sheet_name='Endossos por Apolice')\n",
        "\n",
        "print(f\"Arquivo criado com sucesso: {arquivo_saida}\")\n"
      ],
      "metadata": {
        "colab": {
          "base_uri": "https://localhost:8080/"
        },
        "id": "C8ovYNbT1i0d",
        "outputId": "c00035ac-01d9-4686-c153-c6ae13649503"
      },
      "execution_count": null,
      "outputs": [
        {
          "output_type": "stream",
          "name": "stdout",
          "text": [
            "Arquivo lido como Excel.\n",
            "Arquivo criado com sucesso: /content/resultado_endossos.xlsx\n"
          ]
        }
      ]
    }
  ]
}