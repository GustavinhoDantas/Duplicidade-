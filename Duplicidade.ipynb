{
  "nbformat": 4,
  "nbformat_minor": 0,
  "metadata": {
    "colab": {
      "provenance": [],
      "authorship_tag": "ABX9TyP/XsFm+nUQCjEKaKJjZMRv",
      "include_colab_link": true
    },
    "kernelspec": {
      "name": "python3",
      "display_name": "Python 3"
    },
    "language_info": {
      "name": "python"
    }
  },
  "cells": [
    {
      "cell_type": "markdown",
      "metadata": {
        "id": "view-in-github",
        "colab_type": "text"
      },
      "source": [
        "<a href=\"https://colab.research.google.com/github/GustavinhoDantas/Verificacao-duplicidades/blob/main/Duplicidade.ipynb\" target=\"_parent\"><img src=\"https://colab.research.google.com/assets/colab-badge.svg\" alt=\"Open In Colab\"/></a>"
      ]
    },
    {
      "cell_type": "markdown",
      "source": [
        "DUPLICIDADES\n",
        "\n"
      ],
      "metadata": {
        "id": "5k5Zy7CwyFUQ"
      }
    },
    {
      "cell_type": "code",
      "source": [
        "pip install networkx"
      ],
      "metadata": {
        "colab": {
          "base_uri": "https://localhost:8080/"
        },
        "id": "NvBpiKtIaVVb",
        "outputId": "efe2f756-591a-4bdc-f073-c8d02b03cdc0"
      },
      "execution_count": 42,
      "outputs": [
        {
          "output_type": "stream",
          "name": "stdout",
          "text": [
            "Requirement already satisfied: networkx in /usr/local/lib/python3.11/dist-packages (3.5)\n"
          ]
        }
      ]
    },
    {
      "cell_type": "code",
      "source": [
        "import pandas as pd\n",
        "import numpy as np"
      ],
      "metadata": {
        "id": "oIt_gplRyHzL"
      },
      "execution_count": 62,
      "outputs": []
    },
    {
      "cell_type": "code",
      "source": [
        "# Caminhos dos arquivos\n",
        "arquivo_subir = '/content/Subir_IBI_BV.xlsx'\n",
        "arquivo_api = '/content/Lote_258_2025_06_11_10_32_52.xlsx'\n",
        "arquivo_portal = '/content/query_result_2025-06-11T11_48_14.593598-03_00.xlsx'\n",
        "\n",
        "arq_subir = pd.read_excel(arquivo_subir)\n",
        "arq_api = pd.read_excel(arquivo_api)\n",
        "arq_portal = pd.read_excel(arquivo_portal)\n",
        "\n",
        "print('lidas')"
      ],
      "metadata": {
        "colab": {
          "base_uri": "https://localhost:8080/"
        },
        "id": "vn46ul4O9qBD",
        "outputId": "bf1cb8e2-d70b-42e1-801f-7cba606d842c"
      },
      "execution_count": 63,
      "outputs": [
        {
          "output_type": "stream",
          "name": "stderr",
          "text": [
            "/usr/local/lib/python3.11/dist-packages/openpyxl/styles/stylesheet.py:237: UserWarning: Workbook contains no default style, apply openpyxl's default\n",
            "  warn(\"Workbook contains no default style, apply openpyxl's default\")\n"
          ]
        },
        {
          "output_type": "stream",
          "name": "stdout",
          "text": [
            "lidas\n"
          ]
        }
      ]
    },
    {
      "cell_type": "code",
      "source": [
        "# Acesso seguro às colunas com strip\n",
        "arq_subir['Apólice'] = arq_subir['Apólice'].str.strip()\n",
        "arq_api['Número da Apólice'] = arq_api['Número da Apólice'].str.strip()\n",
        "arq_portal['Apólice'] = arq_portal['Apólice'].str.strip()\n",
        "arq_portal['Apólice renovada'] = arq_portal['Apólice renovada'].str.strip()\n",
        "\n",
        "\n",
        "print('Polidas')"
      ],
      "metadata": {
        "collapsed": true,
        "id": "CFi4BDjgxjhO",
        "colab": {
          "base_uri": "https://localhost:8080/"
        },
        "outputId": "fb77fd94-6a27-4554-91a8-365141ce6627"
      },
      "execution_count": null,
      "outputs": [
        {
          "output_type": "stream",
          "name": "stdout",
          "text": [
            "Polidas\n"
          ]
        }
      ]
    },
    {
      "cell_type": "code",
      "source": [
        "# Vendo se a apolice em questão já não está no portal, batendo apolice x apolice e apolice  x endosso ]\n",
        "mask_importadas_apolice = ( arq_portal['Apólice'].isin(arq_subir['Apólice']) &\n",
        "                            arq_portal['Endosso'].isna()\n",
        ")\n",
        "\n",
        "mask_importadas_endossos = arq_portal['Endosso'].isin(arq_subir['Apólice'])\n",
        "\n",
        "mask_importadas = mask_importadas_apolice | mask_importadas_endossos\n",
        "\n",
        "colunas_resultado = ['ID AVITA', 'Apólice', 'Endosso']\n",
        "portal_filtrado = arq_portal.loc[mask_importadas, colunas_resultado]\n",
        "\n",
        "# Remove duplicatas, se necessário\n",
        "portal_filtrado = portal_filtrado.drop_duplicates()\n",
        "\n",
        "# Salva no Excel\n",
        "portal_filtrado.to_excel('z_01_subir_ja_no_portal.xlsx', index=False)\n",
        "print('Subir já no portal salvo com sucesso!')"
      ],
      "metadata": {
        "colab": {
          "base_uri": "https://localhost:8080/"
        },
        "collapsed": true,
        "id": "ATL1-po8-xAF",
        "outputId": "39701bc1-ae3c-412f-fc75-87eb666d79b9"
      },
      "execution_count": null,
      "outputs": [
        {
          "output_type": "stream",
          "name": "stdout",
          "text": [
            "Subir já no portal salvo com sucesso!\n"
          ]
        }
      ]
    },
    {
      "cell_type": "code",
      "source": [
        "# Conjunto de apólices da SUBIR que já estão no portal\n",
        "apolices_ja_no_portal = set(arq_portal.loc[mask_importadas_apolice, 'Apólice']) | set(arq_portal.loc[mask_importadas_endossos, 'Endosso'])\n",
        "\n",
        "# Remove da SUBIR essas apólices\n",
        "arq_subir_filtrado = arq_subir[~arq_subir['Apólice'].isin(apolices_ja_no_portal)]\n",
        "\n",
        "# Salvar resultado\n",
        "arq_subir_filtrado.to_excel('z_02_subir_filtrado.xlsx', index=False)\n",
        "print('Base de subir filtrada com sucesso!')"
      ],
      "metadata": {
        "colab": {
          "base_uri": "https://localhost:8080/"
        },
        "id": "LW72nRhnIeyF",
        "outputId": "61fb3c69-3b80-45ea-8676-4c9912bf8837"
      },
      "execution_count": null,
      "outputs": [
        {
          "output_type": "stream",
          "name": "stdout",
          "text": [
            "Base de subir filtrada com sucesso!\n"
          ]
        }
      ]
    },
    {
      "cell_type": "code",
      "source": [
        "# Criar uma máscara booleana para linhas da arq_api onde a apólice está em arq_subir['Apólice']\n",
        "mask_api = arq_api['Número da Apólice'].isin(arq_subir_filtrado['Apólice'])\n",
        "correspondentes_api = arq_api.loc[mask_api]\n",
        "\n",
        "print('Vendo correspondencias')\n",
        "\n",
        "#df = pd.DataFrame(correspondentes)\n",
        "#df.to_excel('teste.xlsx', index=False)\n",
        "#print('Dados extraídos e salvos no Excel!')"
      ],
      "metadata": {
        "colab": {
          "base_uri": "https://localhost:8080/"
        },
        "collapsed": true,
        "id": "0DrJ-wqV_xXC",
        "outputId": "f40b0eb2-7746-40ff-a02a-4206a0bc432d"
      },
      "execution_count": null,
      "outputs": [
        {
          "output_type": "stream",
          "name": "stdout",
          "text": [
            "Vendo correspondencias\n"
          ]
        }
      ]
    },
    {
      "cell_type": "code",
      "source": [
        "#Pegando a correspondencia, mas apenas que são renovações\n",
        "renovacao = correspondentes_api[correspondentes_api['Renovação?'] == 'sim']\n",
        "print('Vista apenas as renovações')\n",
        "\n",
        "#tira a repetição da mesma apolice\n",
        "renovacao = renovacao.drop_duplicates(subset='Número da Apólice', keep='first')\n",
        "print('duplicidades')\n",
        "\n",
        "cancelados = renovacao[renovacao['Status'] == 'cancelado']\n",
        "renovacao = renovacao[renovacao['Status'] != 'cancelado']\n",
        "\n",
        "df = pd.DataFrame(renovacao)\n",
        "cancelados.to_excel('z_03_cancelados_seguradora.xlsx', index=False)\n",
        "df.to_excel('z_04_renovacao.xlsx', index=False)\n",
        "print('Dados extraídos e salvos no Excel!')"
      ],
      "metadata": {
        "colab": {
          "base_uri": "https://localhost:8080/"
        },
        "id": "5JEpFjNxBaup",
        "outputId": "bfeda591-9600-4052-bb03-09fd16188d02"
      },
      "execution_count": null,
      "outputs": [
        {
          "output_type": "stream",
          "name": "stdout",
          "text": [
            "Vista apenas as renovações\n",
            "duplicidades\n",
            "Dados extraídos e salvos no Excel!\n"
          ]
        }
      ]
    },
    {
      "cell_type": "markdown",
      "source": [
        "Agora fazendo o bate com o portal"
      ],
      "metadata": {
        "id": "1rlwpgLsL_kK"
      }
    },
    {
      "cell_type": "code",
      "source": [
        "#arrumar para pegar os endossos dessas apolice então buscar na campo de apolice renovada do portal, ou seja, bater endosso do portal x apolice\n",
        "\n",
        "# Garantir que os valores estejam padronizados como strings e sem espaços\n",
        "renovacao['Número da Apólice Renovada'] = renovacao['Número da Apólice Renovada'].astype(str).str.strip()\n",
        "arq_portal['Apólice'] = arq_portal['Apólice'].astype(str).str.strip()\n",
        "arq_portal['Apólice renovada'] = arq_portal['Apólice renovada'].astype(str).str.strip()\n",
        "\n",
        "# Máscara correta: procurar na tabela portal os valores que estão na renovacao\n",
        "mask_portal = (\n",
        "    arq_portal['Apólice'].isin(renovacao['Número da Apólice Renovada']) |\n",
        "    arq_portal['Apólice renovada'].isin(renovacao['Número da Apólice Renovada']) |\n",
        "    arq_portal['Endosso'].isin(renovacao['Número da Apólice Renovada'])\n",
        ")\n",
        "# Filtrar as linhas da tabela do portal\n",
        "correspondentes_portal = arq_portal[mask_portal]\n",
        "\n",
        "# 1. Pega todos os endossos da tabela correspondentes_portal e ve se tem na coluna apolice renovada no portal\n",
        "endossos_encontrados = correspondentes_portal['Endosso'].dropna().unique()\n",
        "mask_endosso_renovado = arq_portal['Apólice renovada'].isin(endossos_encontrados)\n",
        "linhas_expandidas = arq_portal[mask_endosso_renovado].copy()\n",
        "trilha= pd.concat([correspondentes_portal, linhas_expandidas]).drop_duplicates().reset_index(drop=True)\n",
        "\n",
        "#tabela onde vai os ID_Trilha e já adiciona o mesmo ID quando a apolice aparece mais de uma vez na coluna\n",
        "trilha['ID_Trilha'] = trilha['Apólice'].astype('category').cat.codes + 1\n",
        "\n",
        "\n",
        "trilha['Endosso'] = trilha['Endosso'].replace(['nan', 'NaN', 'None', ''], np.nan)\n",
        "# Criar dicionário apenas com Endossos válidos (não nulos)\n",
        "map_endosso_para_id = trilha.dropna(subset=['Endosso']).set_index('Endosso')['ID_Trilha'].to_dict()\n",
        "\n",
        "# Aplicar substituição do ID_Trilha se o valor da apólice renovada estiver no dicionário de endossos\n",
        "trilha['ID_Trilha'] = trilha.apply(\n",
        "    lambda row: map_endosso_para_id[row['Apólice renovada']]\n",
        "    if row['Apólice renovada'] in map_endosso_para_id\n",
        "    else row['ID_Trilha'],\n",
        "    axis=1\n",
        ")\n",
        "\n",
        "\n",
        "# Salvar no Excel\n",
        "trilha.to_excel('z_05_trilha.xlsx', index=False)\n",
        "print('Linhas do portal que batem com renovações salvas no Excel!')"
      ],
      "metadata": {
        "colab": {
          "base_uri": "https://localhost:8080/"
        },
        "id": "5_AeIAZ0LfAA",
        "outputId": "42a27650-e589-4af1-99a3-e32cad9e1ec9"
      },
      "execution_count": 64,
      "outputs": [
        {
          "output_type": "stream",
          "name": "stdout",
          "text": [
            "Linhas do portal que batem com renovações salvas no Excel!\n"
          ]
        }
      ]
    },
    {
      "cell_type": "code",
      "source": [
        "# 1. Filtrar no portal as linhas que batem com a renovação\n",
        "portal_correspondente = arq_portal.loc[mask_portal].copy()\n",
        "\n",
        "# 2. Filtrar só os cancelados (considerando que a coluna Status está na tabela portal)\n",
        "cancelados_portal = portal_correspondente[portal_correspondente['Status'].str.lower() == 'cancelado']\n",
        "\n",
        "# 3. Agora, pegar as apólices canceladas do portal para marcar na renovacao\n",
        "apolices_canceladas_no_portal = cancelados_portal['Apólice'].unique()\n",
        "\n",
        "# 4. Criar coluna em renovacao indicando se está cancelado no portal\n",
        "# Vamos considerar que a chave para ligação é 'Número da Apólice Renovada' na renovacao\n",
        "renovacao['Cancelado no portal'] = renovacao['Número da Apólice Renovada'].apply(\n",
        "    lambda x: 'Sim' if x in apolices_canceladas_no_portal else 'Não'\n",
        ")\n",
        "\n",
        "# 5. Salvar ou conferir\n",
        "renovacao.to_excel('renovacao_com_cancelados_portal.xlsx', index=False)\n",
        "print('Arquivo salvo com informação de cancelados no portal na tabela renovacao.')"
      ],
      "metadata": {
        "colab": {
          "base_uri": "https://localhost:8080/"
        },
        "id": "yhkkoLdHO4K7",
        "outputId": "17cc69ea-c698-4496-f6a2-87de79bc8b3f"
      },
      "execution_count": null,
      "outputs": [
        {
          "output_type": "stream",
          "name": "stdout",
          "text": [
            "Arquivo salvo com informação de cancelados no portal na tabela renovacao.\n"
          ]
        }
      ]
    },
    {
      "cell_type": "markdown",
      "source": [],
      "metadata": {
        "id": "9tbUHmt4CXIA"
      }
    },
    {
      "cell_type": "code",
      "source": [
        "def verifica_duplicidade_trilha(row):\n",
        "    apolice_mae = row['Número da Apólice Renovada']\n",
        "    # Filtra a trilha: todas as linhas do portal com 'Apólice' igual\n",
        "    trilha = arq_portal[arq_portal['Apólice'] == apolice_mae].copy()\n",
        "\n",
        "    if trilha.empty:\n",
        "        return 'Trilha não encontrada'\n",
        "\n",
        "    # Apólice mãe: linha da trilha com Endosso vazio ou NaN\n",
        "    apolice_mae_row = trilha[trilha['Endosso'].isna() | (trilha['Endosso'] == '')]\n",
        "\n",
        "    if apolice_mae_row.empty:\n",
        "        return 'Apólice mãe não identificada'\n",
        "\n",
        "    # Data da apólice mãe (final de vigência)\n",
        "    data_mae = pd.to_datetime(apolice_mae_row.iloc[0]['Final Vigência'])\n",
        "\n",
        "    # Datas únicas da trilha (final de vigência)\n",
        "    datas_trilha = pd.to_datetime(trilha['Final Vigência'].dropna().unique())\n",
        "\n",
        "    # Se alguma data na trilha for diferente da data da apólice mãe => possível duplicidade\n",
        "    if any(data != data_mae for data in datas_trilha):\n",
        "        return 'Possível duplicidade'\n",
        "    else:\n",
        "        return 'OK para importação'\n",
        "\n",
        "# Aplica a função para cada linha da tabela renovacao\n",
        "renovacao['Status Trilhas'] = renovacao.apply(verifica_duplicidade_trilha, axis=1)\n",
        "\n",
        "# Salva resultado para conferência\n",
        "renovacao.to_excel('renovacao_com_status_trilhas.xlsx', index=False)\n",
        "print('Arquivo renovacao_com_status_trilhas.xlsx salvo com a coluna Status Trilhas.')"
      ],
      "metadata": {
        "colab": {
          "base_uri": "https://localhost:8080/"
        },
        "id": "flbwwvAcLPEB",
        "outputId": "20010e9a-9b3d-49e8-b08e-e5ec23d8681c"
      },
      "execution_count": 39,
      "outputs": [
        {
          "output_type": "stream",
          "name": "stdout",
          "text": [
            "Arquivo renovacao_com_status_trilhas.xlsx salvo com a coluna Status Trilhas.\n"
          ]
        }
      ]
    },
    {
      "cell_type": "markdown",
      "source": [
        "\n",
        "- Bater a SUBIR já no portal (apolice x apolice e apolice x endosso) - fazer com que retorne uma tabela com campus ID portal|Apolice|Endosso\n",
        "- Maneira de bater a planilha renovacao com a do portal para ver duplicidades, para isso é necessario ver a trilha (trilha é aquela que tem vinculo com a mesma apolice, ou seja, tudo que tiver na base do portal com a coluna \"Apolice\" igual é a trilha) para ver isso é necessario bater as datas, se a data de final de vigencia da trilha for igual a da apolice tudo bem, caso seja diferente houve uma renovação, por isso é uma duplicidade\n",
        "\n"
      ],
      "metadata": {
        "id": "uyeD66Bh9r_H"
      }
    }
  ]
}