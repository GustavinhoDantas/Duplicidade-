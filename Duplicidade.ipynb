{
  "nbformat": 4,
  "nbformat_minor": 0,
  "metadata": {
    "colab": {
      "provenance": [],
      "authorship_tag": "ABX9TyMbfSpqecLO7l/qGeJP9z2R",
      "include_colab_link": true
    },
    "kernelspec": {
      "name": "python3",
      "display_name": "Python 3"
    },
    "language_info": {
      "name": "python"
    }
  },
  "cells": [
    {
      "cell_type": "markdown",
      "metadata": {
        "id": "view-in-github",
        "colab_type": "text"
      },
      "source": [
        "<a href=\"https://colab.research.google.com/github/GustavinhoDantas/Verificacao-duplicidades/blob/main/Duplicidade.ipynb\" target=\"_parent\"><img src=\"https://colab.research.google.com/assets/colab-badge.svg\" alt=\"Open In Colab\"/></a>"
      ]
    },
    {
      "cell_type": "markdown",
      "source": [
        "DUPLICIDADES\n",
        "\n"
      ],
      "metadata": {
        "id": "5k5Zy7CwyFUQ"
      }
    },
    {
      "cell_type": "code",
      "source": [
        "import pandas as pd\n",
        "\n",
        "# Caminhos dos arquivos\n",
        "arquivo_subir = '/content/Subir_IBI_BV.xlsx'\n",
        "arquivo_api = '/content/Lote_258_2025_06_11_10_32_52.xlsx'\n",
        "arquivo_portal = '/content/query_result_2025-06-11T11_48_14.593598-03_00.xlsx'\n",
        "\n",
        "arq_subir = pd.read_excel(arquivo_subir)\n",
        "arq_api = pd.read_excel(arquivo_api)\n",
        "arq_portal = pd.read_excel(arquivo_portal)\n",
        "print('lidas')"
      ],
      "metadata": {
        "colab": {
          "base_uri": "https://localhost:8080/"
        },
        "id": "vn46ul4O9qBD",
        "outputId": "7d610cb1-7436-409b-b1da-b01957effa71"
      },
      "execution_count": 1,
      "outputs": [
        {
          "output_type": "stream",
          "name": "stderr",
          "text": [
            "/usr/local/lib/python3.11/dist-packages/openpyxl/styles/stylesheet.py:237: UserWarning: Workbook contains no default style, apply openpyxl's default\n",
            "  warn(\"Workbook contains no default style, apply openpyxl's default\")\n"
          ]
        },
        {
          "output_type": "stream",
          "name": "stdout",
          "text": [
            "lidas\n"
          ]
        }
      ]
    },
    {
      "cell_type": "code",
      "source": [
        "# Acesso seguro às colunas com strip\n",
        "arq_subir['Apólice'] = arq_subir['Apólice'].str.strip()\n",
        "arq_api['Número da Apólice'] = arq_api['Número da Apólice'].str.strip()\n",
        "arq_portal['Apólice'] = arq_portal['Apólice'].str.strip()\n",
        "arq_portal['Apólice renovada'] = arq_portal['Apólice renovada'].str.strip()\n",
        "\n",
        "\n",
        "#print(arq_subir['Apólice'])"
      ],
      "metadata": {
        "collapsed": true,
        "id": "CFi4BDjgxjhO"
      },
      "execution_count": 2,
      "outputs": []
    },
    {
      "cell_type": "code",
      "source": [
        "# Vendo se a apolice em questão já não está no portal, batendo apolice x apolice e apolice  x endosso ]\n"
      ],
      "metadata": {
        "colab": {
          "base_uri": "https://localhost:8080/"
        },
        "collapsed": true,
        "id": "ATL1-po8-xAF",
        "outputId": "62fa52c3-b740-4cc2-82d8-0f20da3465b4"
      },
      "execution_count": null,
      "outputs": [
        {
          "output_type": "stream",
          "name": "stdout",
          "text": [
            "0     02-0775-1047029\n",
            "1     02-0775-1187131\n",
            "2     02-0775-1179866\n",
            "3     02-0775-1187451\n",
            "4     02-0775-1167083\n",
            "5     02-0775-1175677\n",
            "6     02-0775-1175109\n",
            "7     02-0775-1228572\n",
            "9     02-0775-1187435\n",
            "10    02-0775-1196717\n",
            "11    02-0775-1171395\n",
            "12    02-0775-1230605\n",
            "13    02-0775-1230723\n",
            "14    02-0775-1220014\n",
            "15    02-0775-0809733\n",
            "17    02-0775-1195306\n",
            "18    02-0775-1171017\n",
            "19    02-0775-1163466\n",
            "20    02-0775-1046850\n",
            "21    02-0775-1179870\n",
            "22    02-0775-1183045\n",
            "23    02-0775-1174924\n",
            "24    02-0775-1179869\n",
            "25    02-0775-1187446\n",
            "26    02-0775-1164218\n",
            "27    02-0775-1175679\n",
            "28    02-0775-1187437\n",
            "29    02-0775-1174926\n",
            "30    02-0775-1187445\n",
            "31    02-0775-1164794\n",
            "32    02-0775-1178849\n",
            "33    02-0775-1175108\n",
            "34    02-0775-1171534\n",
            "35    02-0775-0840353\n",
            "36    02-0775-1183938\n",
            "37    02-0775-1163467\n",
            "38    02-0775-1187433\n",
            "39    02-0775-1175674\n",
            "40    02-0775-1164217\n",
            "41    02-0775-1171396\n",
            "42    02-0775-1173015\n",
            "43    02-0775-1189487\n",
            "44    02-0775-1166448\n",
            "45    02-0775-1187301\n",
            "46    02-0775-1003217\n",
            "47    02-0775-0871324\n",
            "49    02-0775-1196373\n",
            "Name: Apólice, dtype: object\n"
          ]
        }
      ]
    },
    {
      "cell_type": "code",
      "source": [
        "# Criar uma máscara booleana para linhas da arq_api onde a apólice está em arq_subir['Apólice']\n",
        "mask_api = arq_api['Número da Apólice'].isin(arq_subir['Apólice'])\n",
        "correspondentes_api = arq_api.loc[mask_api]\n",
        "\n",
        "print('Vendo correspondencias')\n",
        "\n",
        "#df = pd.DataFrame(correspondentes)\n",
        "#df.to_excel('teste.xlsx', index=False)\n",
        "#print('Dados extraídos e salvos no Excel!')"
      ],
      "metadata": {
        "colab": {
          "base_uri": "https://localhost:8080/"
        },
        "collapsed": true,
        "id": "0DrJ-wqV_xXC",
        "outputId": "942bb996-6b80-465f-e65f-39874de2cb65"
      },
      "execution_count": 3,
      "outputs": [
        {
          "output_type": "stream",
          "name": "stdout",
          "text": [
            "Vendo correspondencias\n"
          ]
        }
      ]
    },
    {
      "cell_type": "code",
      "source": [
        "#Pegando a correspondencia, mas apenas que são renovações\n",
        "renovacao = correspondentes_api[correspondentes_api['Renovação?'] == 'sim']\n",
        "print('Vista apenas as renovações')\n",
        "\n",
        "#tira a repetição da mesma apolice\n",
        "renovacao = renovacao.drop_duplicates(subset='Número da Apólice', keep='first')\n",
        "print('duplicidades')\n",
        "\n",
        "cancelados = renovacao[renovacao['Status'] == 'cancelado']\n",
        "renovacao = renovacao[renovacao['Status'] != 'cancelado']\n",
        "\n",
        "df = pd.DataFrame(renovacao)\n",
        "cancelados.to_excel('cancelados.xlsx', index=False)\n",
        "df.to_excel('renovacao.xlsx', index=False)\n",
        "print('Dados extraídos e salvos no Excel!')"
      ],
      "metadata": {
        "colab": {
          "base_uri": "https://localhost:8080/"
        },
        "id": "5JEpFjNxBaup",
        "outputId": "da883d06-e160-412e-bea8-cd01084a6eea"
      },
      "execution_count": 7,
      "outputs": [
        {
          "output_type": "stream",
          "name": "stdout",
          "text": [
            "Vista apenas as renovações\n",
            "duplicidades\n",
            "Dados extraídos e salvos no Excel!\n"
          ]
        }
      ]
    },
    {
      "cell_type": "markdown",
      "source": [
        "Agora fazendo o bate com o portal"
      ],
      "metadata": {
        "id": "1rlwpgLsL_kK"
      }
    },
    {
      "cell_type": "code",
      "source": [
        "# Garantir que os valores estejam padronizados como strings e sem espaços\n",
        "renovacao['Número da Apólice Renovada'] = renovacao['Número da Apólice Renovada'].astype(str).str.strip()\n",
        "arq_portal['Apólice'] = arq_portal['Apólice'].astype(str).str.strip()\n",
        "arq_portal['Apólice renovada'] = arq_portal['Apólice renovada'].astype(str).str.strip()\n",
        "\n",
        "# Máscara correta: procurar na tabela portal os valores que estão na renovacao\n",
        "mask_portal = (\n",
        "    arq_portal['Apólice'].isin(renovacao['Número da Apólice Renovada']) |\n",
        "    arq_portal['Apólice renovada'].isin(renovacao['Número da Apólice Renovada']) |\n",
        "    arq_portal['Endosso'].isin(renovacao['Número da Apólice Renovada'])\n",
        ")\n",
        "# Filtrar as linhas da tabela do portal\n",
        "correspondentes_portal = arq_portal[mask_portal]\n",
        "\n",
        "# Salvar no Excel\n",
        "correspondentes_portal.to_excel('correspondencia_portal.xlsx', index=False)\n",
        "print('Linhas do portal que batem com renovações salvas no Excel!')\n"
      ],
      "metadata": {
        "colab": {
          "base_uri": "https://localhost:8080/"
        },
        "id": "5_AeIAZ0LfAA",
        "outputId": "cd14c6c8-49f8-4027-f11e-6c568df300ea"
      },
      "execution_count": null,
      "outputs": [
        {
          "output_type": "stream",
          "name": "stdout",
          "text": [
            "Linhas do portal que batem com renovações salvas no Excel!\n"
          ]
        }
      ]
    },
    {
      "cell_type": "markdown",
      "source": [],
      "metadata": {
        "id": "9tbUHmt4CXIA"
      }
    },
    {
      "cell_type": "markdown",
      "source": [
        "\n",
        "- Bater a SUBIR já no portal (apolice x apolice e apolice x endosso) - fazer com que retorne uma tabela com campus ID portal|Apolice|Endosso\n",
        "- Maneira de bater a planilha renovacao com a do portal para ver duplicidades, para isso é necessario ver a trilha (trilha é aquela que tem vinculo com a mesma apolice, ou seja, tudo que tiver na base do portal com a coluna \"Apolice\" igual é a trilha) para ver isso é necessario bater as datas, se a data de final de vigencia da trilha for igual a da apolice tudo bem, caso seja diferente houve uma renovação, por isso é uma duplicidade\n",
        "\n"
      ],
      "metadata": {
        "id": "uyeD66Bh9r_H"
      }
    }
  ]
}